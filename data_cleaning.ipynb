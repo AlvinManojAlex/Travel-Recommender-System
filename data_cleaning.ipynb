{
 "cells": [
  {
   "cell_type": "code",
   "execution_count": 1,
   "metadata": {},
   "outputs": [],
   "source": [
    "import pandas as pd\n",
    "import numpy as np"
   ]
  },
  {
   "cell_type": "code",
   "execution_count": 2,
   "metadata": {},
   "outputs": [],
   "source": [
    "hotel_df = pd.read_csv('./data/google_hotel_data_raw_v2.csv')"
   ]
  },
  {
   "cell_type": "code",
   "execution_count": 3,
   "metadata": {},
   "outputs": [
    {
     "data": {
      "text/html": [
       "<div>\n",
       "<style scoped>\n",
       "    .dataframe tbody tr th:only-of-type {\n",
       "        vertical-align: middle;\n",
       "    }\n",
       "\n",
       "    .dataframe tbody tr th {\n",
       "        vertical-align: top;\n",
       "    }\n",
       "\n",
       "    .dataframe thead th {\n",
       "        text-align: right;\n",
       "    }\n",
       "</style>\n",
       "<table border=\"1\" class=\"dataframe\">\n",
       "  <thead>\n",
       "    <tr style=\"text-align: right;\">\n",
       "      <th></th>\n",
       "      <th>Hotel_Name</th>\n",
       "      <th>Hotel_Rating</th>\n",
       "      <th>City</th>\n",
       "      <th>Feature_1</th>\n",
       "      <th>Feature_2</th>\n",
       "      <th>Feature_3</th>\n",
       "      <th>Feature_4</th>\n",
       "      <th>Feature_5</th>\n",
       "      <th>Feature_6</th>\n",
       "      <th>Feature_7</th>\n",
       "      <th>Feature_8</th>\n",
       "      <th>Feature_9</th>\n",
       "      <th>Hotel_Price</th>\n",
       "    </tr>\n",
       "  </thead>\n",
       "  <tbody>\n",
       "    <tr>\n",
       "      <th>0</th>\n",
       "      <td>Crowne Plaza Kochi</td>\n",
       "      <td>4.6</td>\n",
       "      <td>kochi</td>\n",
       "      <td>5-star hotel</td>\n",
       "      <td>Free breakfast</td>\n",
       "      <td>Free Wi-Fi</td>\n",
       "      <td>Free parking</td>\n",
       "      <td>Outdoor pool</td>\n",
       "      <td>Hot tub</td>\n",
       "      <td>Air conditioning</td>\n",
       "      <td>Fitness center</td>\n",
       "      <td>Spa</td>\n",
       "      <td>₹8,854</td>\n",
       "    </tr>\n",
       "    <tr>\n",
       "      <th>1</th>\n",
       "      <td>Trident Hotel Cochin</td>\n",
       "      <td>4.5</td>\n",
       "      <td>kochi</td>\n",
       "      <td>5-star hotel</td>\n",
       "      <td>Free breakfast</td>\n",
       "      <td>Wi-Fi</td>\n",
       "      <td>Free parking</td>\n",
       "      <td>Outdoor pool</td>\n",
       "      <td>Air conditioning</td>\n",
       "      <td>Fitness center</td>\n",
       "      <td>Spa</td>\n",
       "      <td>Restaurant</td>\n",
       "      <td>₹6,441</td>\n",
       "    </tr>\n",
       "    <tr>\n",
       "      <th>2</th>\n",
       "      <td>The Galaxy Suites</td>\n",
       "      <td>3.8</td>\n",
       "      <td>kochi</td>\n",
       "      <td>Apartment</td>\n",
       "      <td>Sleeps 10</td>\n",
       "      <td>Free parking</td>\n",
       "      <td>Free Wi-Fi</td>\n",
       "      <td>No air conditioning</td>\n",
       "      <td>No airport shuttle</td>\n",
       "      <td>No beach access</td>\n",
       "      <td>No elevator</td>\n",
       "      <td>No fireplace</td>\n",
       "      <td>₹831</td>\n",
       "    </tr>\n",
       "    <tr>\n",
       "      <th>3</th>\n",
       "      <td>The Renai cochin</td>\n",
       "      <td>4.2</td>\n",
       "      <td>kochi</td>\n",
       "      <td>4-star hotel</td>\n",
       "      <td>Free breakfast</td>\n",
       "      <td>Free Wi-Fi</td>\n",
       "      <td>Free parking</td>\n",
       "      <td>Outdoor pool</td>\n",
       "      <td>Air conditioning</td>\n",
       "      <td>Fitness center</td>\n",
       "      <td>Spa</td>\n",
       "      <td>Bar</td>\n",
       "      <td>₹2,768</td>\n",
       "    </tr>\n",
       "    <tr>\n",
       "      <th>4</th>\n",
       "      <td>Ramada by Wyndham Kochi</td>\n",
       "      <td>4.5</td>\n",
       "      <td>kochi</td>\n",
       "      <td>5-star hotel</td>\n",
       "      <td>Breakfast</td>\n",
       "      <td>Free Wi-Fi</td>\n",
       "      <td>Free parking</td>\n",
       "      <td>Outdoor pool</td>\n",
       "      <td>Air conditioning</td>\n",
       "      <td>Fitness center</td>\n",
       "      <td>Spa</td>\n",
       "      <td>Bar</td>\n",
       "      <td>₹8,938</td>\n",
       "    </tr>\n",
       "  </tbody>\n",
       "</table>\n",
       "</div>"
      ],
      "text/plain": [
       "                Hotel_Name  Hotel_Rating   City     Feature_1       Feature_2  \\\n",
       "0       Crowne Plaza Kochi           4.6  kochi  5-star hotel  Free breakfast   \n",
       "1     Trident Hotel Cochin           4.5  kochi  5-star hotel  Free breakfast   \n",
       "2        The Galaxy Suites           3.8  kochi     Apartment       Sleeps 10   \n",
       "3         The Renai cochin           4.2  kochi  4-star hotel  Free breakfast   \n",
       "4  Ramada by Wyndham Kochi           4.5  kochi  5-star hotel       Breakfast   \n",
       "\n",
       "      Feature_3     Feature_4            Feature_5           Feature_6  \\\n",
       "0    Free Wi-Fi  Free parking         Outdoor pool             Hot tub   \n",
       "1         Wi-Fi  Free parking         Outdoor pool    Air conditioning   \n",
       "2  Free parking    Free Wi-Fi  No air conditioning  No airport shuttle   \n",
       "3    Free Wi-Fi  Free parking         Outdoor pool    Air conditioning   \n",
       "4    Free Wi-Fi  Free parking         Outdoor pool    Air conditioning   \n",
       "\n",
       "          Feature_7       Feature_8     Feature_9 Hotel_Price  \n",
       "0  Air conditioning  Fitness center           Spa      ₹8,854  \n",
       "1    Fitness center             Spa    Restaurant      ₹6,441  \n",
       "2   No beach access     No elevator  No fireplace        ₹831  \n",
       "3    Fitness center             Spa           Bar      ₹2,768  \n",
       "4    Fitness center             Spa           Bar      ₹8,938  "
      ]
     },
     "execution_count": 3,
     "metadata": {},
     "output_type": "execute_result"
    }
   ],
   "source": [
    "hotel_df.head()"
   ]
  },
  {
   "cell_type": "code",
   "execution_count": 4,
   "metadata": {},
   "outputs": [
    {
     "data": {
      "text/plain": [
       "Hotel_Name        0\n",
       "Hotel_Rating     50\n",
       "City              0\n",
       "Feature_1        72\n",
       "Feature_2        78\n",
       "Feature_3        78\n",
       "Feature_4        82\n",
       "Feature_5        88\n",
       "Feature_6       109\n",
       "Feature_7       140\n",
       "Feature_8       200\n",
       "Feature_9       293\n",
       "Hotel_Price      71\n",
       "dtype: int64"
      ]
     },
     "execution_count": 4,
     "metadata": {},
     "output_type": "execute_result"
    }
   ],
   "source": [
    "hotel_df.isna().sum()"
   ]
  },
  {
   "cell_type": "code",
   "execution_count": 5,
   "metadata": {},
   "outputs": [],
   "source": [
    "# Remove the rows with missing hotel price values\n",
    "\n",
    "hotel_df = hotel_df.dropna(subset=['Hotel_Price'])"
   ]
  },
  {
   "cell_type": "code",
   "execution_count": 6,
   "metadata": {},
   "outputs": [
    {
     "data": {
      "text/html": [
       "<div>\n",
       "<style scoped>\n",
       "    .dataframe tbody tr th:only-of-type {\n",
       "        vertical-align: middle;\n",
       "    }\n",
       "\n",
       "    .dataframe tbody tr th {\n",
       "        vertical-align: top;\n",
       "    }\n",
       "\n",
       "    .dataframe thead th {\n",
       "        text-align: right;\n",
       "    }\n",
       "</style>\n",
       "<table border=\"1\" class=\"dataframe\">\n",
       "  <thead>\n",
       "    <tr style=\"text-align: right;\">\n",
       "      <th></th>\n",
       "      <th>Hotel_Name</th>\n",
       "      <th>Hotel_Rating</th>\n",
       "      <th>City</th>\n",
       "      <th>Feature_1</th>\n",
       "      <th>Feature_2</th>\n",
       "      <th>Feature_3</th>\n",
       "      <th>Feature_4</th>\n",
       "      <th>Feature_5</th>\n",
       "      <th>Feature_6</th>\n",
       "      <th>Feature_7</th>\n",
       "      <th>Feature_8</th>\n",
       "      <th>Feature_9</th>\n",
       "      <th>Hotel_Price</th>\n",
       "    </tr>\n",
       "  </thead>\n",
       "  <tbody>\n",
       "    <tr>\n",
       "      <th>0</th>\n",
       "      <td>Crowne Plaza Kochi</td>\n",
       "      <td>4.6</td>\n",
       "      <td>kochi</td>\n",
       "      <td>5-star hotel</td>\n",
       "      <td>Free breakfast</td>\n",
       "      <td>Free Wi-Fi</td>\n",
       "      <td>Free parking</td>\n",
       "      <td>Outdoor pool</td>\n",
       "      <td>Hot tub</td>\n",
       "      <td>Air conditioning</td>\n",
       "      <td>Fitness center</td>\n",
       "      <td>Spa</td>\n",
       "      <td>8854.0</td>\n",
       "    </tr>\n",
       "    <tr>\n",
       "      <th>1</th>\n",
       "      <td>Trident Hotel Cochin</td>\n",
       "      <td>4.5</td>\n",
       "      <td>kochi</td>\n",
       "      <td>5-star hotel</td>\n",
       "      <td>Free breakfast</td>\n",
       "      <td>Wi-Fi</td>\n",
       "      <td>Free parking</td>\n",
       "      <td>Outdoor pool</td>\n",
       "      <td>Air conditioning</td>\n",
       "      <td>Fitness center</td>\n",
       "      <td>Spa</td>\n",
       "      <td>Restaurant</td>\n",
       "      <td>6441.0</td>\n",
       "    </tr>\n",
       "    <tr>\n",
       "      <th>2</th>\n",
       "      <td>The Galaxy Suites</td>\n",
       "      <td>3.8</td>\n",
       "      <td>kochi</td>\n",
       "      <td>Apartment</td>\n",
       "      <td>Sleeps 10</td>\n",
       "      <td>Free parking</td>\n",
       "      <td>Free Wi-Fi</td>\n",
       "      <td>No air conditioning</td>\n",
       "      <td>No airport shuttle</td>\n",
       "      <td>No beach access</td>\n",
       "      <td>No elevator</td>\n",
       "      <td>No fireplace</td>\n",
       "      <td>831.0</td>\n",
       "    </tr>\n",
       "    <tr>\n",
       "      <th>3</th>\n",
       "      <td>The Renai cochin</td>\n",
       "      <td>4.2</td>\n",
       "      <td>kochi</td>\n",
       "      <td>4-star hotel</td>\n",
       "      <td>Free breakfast</td>\n",
       "      <td>Free Wi-Fi</td>\n",
       "      <td>Free parking</td>\n",
       "      <td>Outdoor pool</td>\n",
       "      <td>Air conditioning</td>\n",
       "      <td>Fitness center</td>\n",
       "      <td>Spa</td>\n",
       "      <td>Bar</td>\n",
       "      <td>2768.0</td>\n",
       "    </tr>\n",
       "    <tr>\n",
       "      <th>4</th>\n",
       "      <td>Ramada by Wyndham Kochi</td>\n",
       "      <td>4.5</td>\n",
       "      <td>kochi</td>\n",
       "      <td>5-star hotel</td>\n",
       "      <td>Breakfast</td>\n",
       "      <td>Free Wi-Fi</td>\n",
       "      <td>Free parking</td>\n",
       "      <td>Outdoor pool</td>\n",
       "      <td>Air conditioning</td>\n",
       "      <td>Fitness center</td>\n",
       "      <td>Spa</td>\n",
       "      <td>Bar</td>\n",
       "      <td>8938.0</td>\n",
       "    </tr>\n",
       "  </tbody>\n",
       "</table>\n",
       "</div>"
      ],
      "text/plain": [
       "                Hotel_Name  Hotel_Rating   City     Feature_1       Feature_2  \\\n",
       "0       Crowne Plaza Kochi           4.6  kochi  5-star hotel  Free breakfast   \n",
       "1     Trident Hotel Cochin           4.5  kochi  5-star hotel  Free breakfast   \n",
       "2        The Galaxy Suites           3.8  kochi     Apartment       Sleeps 10   \n",
       "3         The Renai cochin           4.2  kochi  4-star hotel  Free breakfast   \n",
       "4  Ramada by Wyndham Kochi           4.5  kochi  5-star hotel       Breakfast   \n",
       "\n",
       "      Feature_3     Feature_4            Feature_5           Feature_6  \\\n",
       "0    Free Wi-Fi  Free parking         Outdoor pool             Hot tub   \n",
       "1         Wi-Fi  Free parking         Outdoor pool    Air conditioning   \n",
       "2  Free parking    Free Wi-Fi  No air conditioning  No airport shuttle   \n",
       "3    Free Wi-Fi  Free parking         Outdoor pool    Air conditioning   \n",
       "4    Free Wi-Fi  Free parking         Outdoor pool    Air conditioning   \n",
       "\n",
       "          Feature_7       Feature_8     Feature_9  Hotel_Price  \n",
       "0  Air conditioning  Fitness center           Spa       8854.0  \n",
       "1    Fitness center             Spa    Restaurant       6441.0  \n",
       "2   No beach access     No elevator  No fireplace        831.0  \n",
       "3    Fitness center             Spa           Bar       2768.0  \n",
       "4    Fitness center             Spa           Bar       8938.0  "
      ]
     },
     "execution_count": 6,
     "metadata": {},
     "output_type": "execute_result"
    }
   ],
   "source": [
    "# Hotel Price is a string (with rupee sign and comma), converting it to float\n",
    "\n",
    "hotel_df['Hotel_Price'] = hotel_df['Hotel_Price'].str.replace('₹', '').str.replace(',', '').astype(float)\n",
    "hotel_df.head()"
   ]
  },
  {
   "cell_type": "code",
   "execution_count": 7,
   "metadata": {},
   "outputs": [],
   "source": [
    "hotel_features = ['Feature_1', 'Feature_2', 'Feature_3', 'Feature_4', 'Feature_5', 'Feature_6', 'Feature_7', 'Feature_8', 'Feature_9']\n",
    "\n",
    "hotel_df[hotel_features] = hotel_df[hotel_features].fillna(0)"
   ]
  },
  {
   "cell_type": "code",
   "execution_count": 8,
   "metadata": {},
   "outputs": [
    {
     "name": "stdout",
     "output_type": "stream",
     "text": [
      "(1101, 13)\n",
      "Hotel_Name      0\n",
      "Hotel_Rating    0\n",
      "City            0\n",
      "Feature_1       0\n",
      "Feature_2       0\n",
      "Feature_3       0\n",
      "Feature_4       0\n",
      "Feature_5       0\n",
      "Feature_6       0\n",
      "Feature_7       0\n",
      "Feature_8       0\n",
      "Feature_9       0\n",
      "Hotel_Price     0\n",
      "dtype: int64\n"
     ]
    }
   ],
   "source": [
    "# removing the NAs from ratings column\n",
    "\n",
    "hotel_df_remove_rating = hotel_df.dropna(subset=['Hotel_Rating'])\n",
    "print(hotel_df_remove_rating.shape)\n",
    "print(hotel_df_remove_rating.isna().sum())"
   ]
  },
  {
   "cell_type": "code",
   "execution_count": 9,
   "metadata": {},
   "outputs": [
    {
     "name": "stdout",
     "output_type": "stream",
     "text": [
      "0\n",
      "Sleeps 12\n",
      "2 bathrooms\n",
      "Balcony\n",
      "Air conditioning\n",
      "1 bed\n",
      "No airport shuttle\n",
      "5-star hotel\n",
      "Fireplace\n",
      "Wi-Fi\n",
      "Kitchen in rooms\n",
      "Apartment\n",
      "Smoke-free property\n",
      "Spa\n",
      "Sleeps 6\n",
      "Beach access\n",
      "Kid-friendly\n",
      "Bar\n",
      "Pools\n",
      "Sleeps 4\n",
      "Parking\n",
      "Sleeps 8\n",
      "Sleeps 10\n",
      "Sleeps 2\n",
      "1 bathroom\n",
      "3-star hotel\n",
      "Sleeps 13\n",
      "Smoke-free\n",
      "Fitness center\n",
      "No fitness center\n",
      "Crib\n",
      "Sleeps 17\n",
      "Paid parking\n",
      "House\n",
      "Wi-Fi ($)\n",
      "4-star hotel\n",
      "Parking ($)\n",
      "Sleeps 9\n",
      "12 bedrooms\n",
      "6 bedrooms\n",
      "3 bathrooms\n",
      "Outdoor pool\n",
      "5 bathrooms\n",
      "28 bedrooms\n",
      "Kitchen in some rooms\n",
      "Pool\n",
      "4 bedrooms\n",
      "Restaurant\n",
      "12 bathrooms\n",
      "Not pet-friendly\n",
      "No air conditioning\n",
      "Hot tub\n",
      "Not wheelchair accessible\n",
      "1 bedroom\n",
      "Sleeps 24\n",
      "Sleeps 3\n",
      "Villa\n",
      "Free parking\n",
      "Sleeps 7\n",
      "No elevator\n",
      "1-star hotel\n",
      "No ironing board\n",
      "2 bedrooms\n",
      "Heating\n",
      "Free Wi-Fi\n",
      "No crib\n",
      "Kitchen\n",
      "Pet-friendly\n",
      "7 bedrooms\n",
      "4 bathrooms\n",
      "Not smoke-free\n",
      "Golf\n",
      "Sleeps 11\n",
      "7 bathrooms\n",
      "Sleeps 5\n",
      "No beach access\n",
      "No fireplace\n",
      "2 beds\n",
      "Free breakfast\n",
      "Sleeps 28\n",
      "Accessible\n",
      "Breakfast\n",
      "Breakfast ($)\n",
      "Bungalow\n",
      "Full-service laundry\n",
      "Elevator\n",
      "Business center\n",
      "Wheelchair accessible\n",
      "No outdoor grill\n",
      "2-star hotel\n",
      "Room service\n",
      "Cable TV\n",
      "Sleeps 16\n",
      "Airport shuttle\n",
      "Indoor pool\n",
      "5 bedrooms\n",
      "3 bedrooms\n"
     ]
    }
   ],
   "source": [
    "features = set()\n",
    "\n",
    "for x in hotel_features:\n",
    "    features.update(hotel_df_remove_rating[x].unique())\n",
    "\n",
    "for feature in features:\n",
    "    print(feature)"
   ]
  },
  {
   "cell_type": "code",
   "execution_count": 10,
   "metadata": {},
   "outputs": [
    {
     "name": "stderr",
     "output_type": "stream",
     "text": [
      "C:\\Users\\alvin\\AppData\\Local\\Temp\\ipykernel_13908\\4277243364.py:9: SettingWithCopyWarning: \n",
      "A value is trying to be set on a copy of a slice from a DataFrame.\n",
      "Try using .loc[row_indexer,col_indexer] = value instead\n",
      "\n",
      "See the caveats in the documentation: https://pandas.pydata.org/pandas-docs/stable/user_guide/indexing.html#returning-a-view-versus-a-copy\n",
      "  hotel_df_remove_rating[feature] = hotel_df_remove_rating[feature].replace(to_replace, replacement)\n"
     ]
    }
   ],
   "source": [
    "# cleaning the feature about 'Pools'\n",
    "\n",
    "# List of values to replace\n",
    "to_replace = ['Pools', 'Outdoor pool', 'Indoor pool']\n",
    "\n",
    "replacement = 'Pool'\n",
    "\n",
    "for feature in hotel_features:\n",
    "    hotel_df_remove_rating[feature] = hotel_df_remove_rating[feature].replace(to_replace, replacement)"
   ]
  },
  {
   "cell_type": "code",
   "execution_count": 11,
   "metadata": {},
   "outputs": [
    {
     "name": "stderr",
     "output_type": "stream",
     "text": [
      "C:\\Users\\alvin\\AppData\\Local\\Temp\\ipykernel_13908\\858639849.py:9: SettingWithCopyWarning: \n",
      "A value is trying to be set on a copy of a slice from a DataFrame.\n",
      "Try using .loc[row_indexer,col_indexer] = value instead\n",
      "\n",
      "See the caveats in the documentation: https://pandas.pydata.org/pandas-docs/stable/user_guide/indexing.html#returning-a-view-versus-a-copy\n",
      "  hotel_df_remove_rating[feature] = hotel_df_remove_rating[feature].replace(to_replace, replacement)\n"
     ]
    }
   ],
   "source": [
    "# cleaning the feature about 'parking'\n",
    "\n",
    "# List of values to replace\n",
    "to_replace = ['Parking ($)', 'Parking']\n",
    "\n",
    "replacement = 'Paid parking'\n",
    "\n",
    "for feature in hotel_features:\n",
    "    hotel_df_remove_rating[feature] = hotel_df_remove_rating[feature].replace(to_replace, replacement)"
   ]
  },
  {
   "cell_type": "code",
   "execution_count": 12,
   "metadata": {},
   "outputs": [
    {
     "name": "stderr",
     "output_type": "stream",
     "text": [
      "C:\\Users\\alvin\\AppData\\Local\\Temp\\ipykernel_13908\\1336122305.py:9: SettingWithCopyWarning: \n",
      "A value is trying to be set on a copy of a slice from a DataFrame.\n",
      "Try using .loc[row_indexer,col_indexer] = value instead\n",
      "\n",
      "See the caveats in the documentation: https://pandas.pydata.org/pandas-docs/stable/user_guide/indexing.html#returning-a-view-versus-a-copy\n",
      "  hotel_df_remove_rating[feature] = hotel_df_remove_rating[feature].replace(to_replace, replacement)\n"
     ]
    }
   ],
   "source": [
    "# cleaning the feature about 'kitchen'\n",
    "\n",
    "# List of values to replace\n",
    "to_replace = ['Kitchen in rooms', 'Kitchen in some rooms']\n",
    "\n",
    "replacement = 'Kitchen'\n",
    "\n",
    "for feature in hotel_features:\n",
    "    hotel_df_remove_rating[feature] = hotel_df_remove_rating[feature].replace(to_replace, replacement)"
   ]
  },
  {
   "cell_type": "code",
   "execution_count": 13,
   "metadata": {},
   "outputs": [
    {
     "name": "stderr",
     "output_type": "stream",
     "text": [
      "C:\\Users\\alvin\\AppData\\Local\\Temp\\ipykernel_13908\\709886835.py:9: SettingWithCopyWarning: \n",
      "A value is trying to be set on a copy of a slice from a DataFrame.\n",
      "Try using .loc[row_indexer,col_indexer] = value instead\n",
      "\n",
      "See the caveats in the documentation: https://pandas.pydata.org/pandas-docs/stable/user_guide/indexing.html#returning-a-view-versus-a-copy\n",
      "  hotel_df_remove_rating[feature] = hotel_df_remove_rating[feature].replace(to_replace, replacement)\n"
     ]
    }
   ],
   "source": [
    "# cleaning the feature about 'smoking'\n",
    "\n",
    "# List of values to replace\n",
    "to_replace = ['Smoke-free property']\n",
    "\n",
    "replacement = 'Smoke-free'\n",
    "\n",
    "for feature in hotel_features:\n",
    "    hotel_df_remove_rating[feature] = hotel_df_remove_rating[feature].replace(to_replace, replacement)"
   ]
  },
  {
   "cell_type": "code",
   "execution_count": 14,
   "metadata": {},
   "outputs": [
    {
     "name": "stderr",
     "output_type": "stream",
     "text": [
      "C:\\Users\\alvin\\AppData\\Local\\Temp\\ipykernel_13908\\1224830465.py:9: SettingWithCopyWarning: \n",
      "A value is trying to be set on a copy of a slice from a DataFrame.\n",
      "Try using .loc[row_indexer,col_indexer] = value instead\n",
      "\n",
      "See the caveats in the documentation: https://pandas.pydata.org/pandas-docs/stable/user_guide/indexing.html#returning-a-view-versus-a-copy\n",
      "  hotel_df_remove_rating[feature] = hotel_df_remove_rating[feature].replace(to_replace, replacement)\n"
     ]
    }
   ],
   "source": [
    "# cleaning the feature about 'breakfast'\n",
    "\n",
    "# List of values to replace\n",
    "to_replace = ['Breakfast ($)']\n",
    "\n",
    "replacement = 'Breakfast'\n",
    "\n",
    "for feature in hotel_features:\n",
    "    hotel_df_remove_rating[feature] = hotel_df_remove_rating[feature].replace(to_replace, replacement)"
   ]
  },
  {
   "cell_type": "code",
   "execution_count": 15,
   "metadata": {},
   "outputs": [
    {
     "name": "stderr",
     "output_type": "stream",
     "text": [
      "C:\\Users\\alvin\\AppData\\Local\\Temp\\ipykernel_13908\\405133403.py:9: SettingWithCopyWarning: \n",
      "A value is trying to be set on a copy of a slice from a DataFrame.\n",
      "Try using .loc[row_indexer,col_indexer] = value instead\n",
      "\n",
      "See the caveats in the documentation: https://pandas.pydata.org/pandas-docs/stable/user_guide/indexing.html#returning-a-view-versus-a-copy\n",
      "  hotel_df_remove_rating[feature] = hotel_df_remove_rating[feature].replace(to_replace, replacement)\n"
     ]
    }
   ],
   "source": [
    "# cleaning the feature about 'wifi'\n",
    "\n",
    "# List of values to replace\n",
    "to_replace = ['Wi-Fi ($)']\n",
    "\n",
    "replacement = 'Wi-Fi'\n",
    "\n",
    "for feature in hotel_features:\n",
    "    hotel_df_remove_rating[feature] = hotel_df_remove_rating[feature].replace(to_replace, replacement)"
   ]
  },
  {
   "cell_type": "code",
   "execution_count": 23,
   "metadata": {},
   "outputs": [],
   "source": [
    "# Dataset for kaggle\n",
    "hotel_df_remove_rating.to_csv('./data/google_hotel_data_clean_v2.csv', index=False)"
   ]
  }
 ],
 "metadata": {
  "kernelspec": {
   "display_name": "Python 3",
   "language": "python",
   "name": "python3"
  },
  "language_info": {
   "codemirror_mode": {
    "name": "ipython",
    "version": 3
   },
   "file_extension": ".py",
   "mimetype": "text/x-python",
   "name": "python",
   "nbconvert_exporter": "python",
   "pygments_lexer": "ipython3",
   "version": "3.10.2"
  }
 },
 "nbformat": 4,
 "nbformat_minor": 2
}
