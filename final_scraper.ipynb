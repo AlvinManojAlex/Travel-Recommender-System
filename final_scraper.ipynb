{
 "cells": [
  {
   "cell_type": "code",
   "execution_count": 17,
   "metadata": {},
   "outputs": [],
   "source": [
    "from selenium import webdriver\n",
    "from selenium.webdriver.common.by import By\n",
    "from selenium.webdriver.common.action_chains import ActionChains\n",
    "from selenium.webdriver.common.keys import Keys\n",
    "\n",
    "import time\n",
    "\n",
    "import pandas as pd\n",
    "import numpy as np"
   ]
  },
  {
   "cell_type": "code",
   "execution_count": 47,
   "metadata": {},
   "outputs": [],
   "source": [
    "google_hotel_df = pd.DataFrame(columns=['Hotel_Name', 'Hotel_Rating', 'City', 'Feature_1', 'Feature_2', 'Feature_3', 'Feature_4', 'Feature_5', 'Feature_6', 'Feature_7','Feature_8', 'Feature_9', 'Hotel_Price'])"
   ]
  },
  {
   "cell_type": "code",
   "execution_count": 19,
   "metadata": {},
   "outputs": [],
   "source": [
    "def get_hotel_name(div):\n",
    "    # h2 element of the hotel name contains the following class\n",
    "    return div.find_element(By.CSS_SELECTOR, '.BgYkof.ogfYpf').text"
   ]
  },
  {
   "cell_type": "code",
   "execution_count": 20,
   "metadata": {},
   "outputs": [],
   "source": [
    "def get_hotel_rating(div):\n",
    "    # some hotels do not contain rating\n",
    "\n",
    "    try:\n",
    "        hotel_rating = div.find_element(By.CSS_SELECTOR, '.lA0BZ').text\n",
    "    except:\n",
    "        hotel_rating = 'NA'\n",
    "    \n",
    "    return hotel_rating"
   ]
  },
  {
   "cell_type": "code",
   "execution_count": 21,
   "metadata": {},
   "outputs": [],
   "source": [
    "def get_hotel_price(div):\n",
    "    # some hotels do not contain price\n",
    "\n",
    "    try:\n",
    "        hotel_price = div.find_element(By.CSS_SELECTOR, '.kixHKb.flySGb').text\n",
    "    except:\n",
    "        hotel_price = 'NA'\n",
    "\n",
    "    return hotel_price"
   ]
  },
  {
   "cell_type": "code",
   "execution_count": 22,
   "metadata": {},
   "outputs": [],
   "source": [
    "def get_hotel_features(div):\n",
    "    # maximum 9 features are displayed for each hotel\n",
    "\n",
    "    try:\n",
    "        features = div.find_elements(By.CSS_SELECTOR, '.bX73z')\n",
    "        hotel_features = []\n",
    "        for feature in features:\n",
    "            hotel_features.append(feature.text)\n",
    "\n",
    "        # if less than 9 features are displayed, append NA to the list\n",
    "        while len(hotel_features) < 9:\n",
    "            hotel_features.append('NA')\n",
    "    \n",
    "    except:\n",
    "        hotel_features = ['NA', 'NA', 'NA', 'NA', 'NA', 'NA', 'NA', 'NA', 'NA']\n",
    "\n",
    "    return hotel_features"
   ]
  },
  {
   "cell_type": "code",
   "execution_count": 23,
   "metadata": {},
   "outputs": [],
   "source": [
    "# define base url\n",
    "\n",
    "base_url = 'https://www.google.com/travel/hotels'"
   ]
  },
  {
   "cell_type": "code",
   "execution_count": 24,
   "metadata": {},
   "outputs": [],
   "source": [
    "cities = ['kochi', 'trivandrum', 'pune', 'chennai', 'delhi', 'bhubaneswar', 'mumbai', 'lucknow', 'kolkata', 'bangalore', 'hyderabad', 'pondicherry', 'patna', 'nagpur', 'indore', 'jaipur', 'nashik', 'kanpur', 'chandigarh', 'guwahati', 'mangalore', 'gwalior', 'ranchi', 'aurangabad', 'ahmedabad', 'amritsar', 'ludhiana', 'meerut', 'vadodara', 'raipur', 'vijayawada', 'coimbatore', 'ghaziabad', 'allahabad', 'faridabad']"
   ]
  },
  {
   "cell_type": "code",
   "execution_count": 40,
   "metadata": {},
   "outputs": [],
   "source": [
    "# Set up the Chrome webdriver (make sure you have Chrome and ChromeDriver installed)\n",
    "driver = webdriver.Chrome()"
   ]
  },
  {
   "cell_type": "code",
   "execution_count": 41,
   "metadata": {},
   "outputs": [],
   "source": [
    "hotel_name = []\n",
    "hotel_rating = []\n",
    "hotel_city = []\n",
    "feature_1 = []\n",
    "feature_2 = []\n",
    "feature_3 = []\n",
    "feature_4 = []\n",
    "feature_5 = []\n",
    "feature_6 = []\n",
    "feature_7 = []\n",
    "feature_8 = []\n",
    "feature_9 = []\n",
    "hotel_price = []"
   ]
  },
  {
   "cell_type": "code",
   "execution_count": 45,
   "metadata": {},
   "outputs": [],
   "source": [
    "driver.get(base_url)\n",
    "\n",
    "for city in ['kochi', 'gwalior', 'nagpur', 'indore']:\n",
    "\n",
    "    search_bar = driver.find_element(By.CLASS_NAME, 'II2One')\n",
    "    search_bar.clear()\n",
    "    search_bar.send_keys(city)\n",
    "\n",
    "    time.sleep(5)\n",
    "\n",
    "    # Create an ActionChains object and press the Enter key\n",
    "    actions = ActionChains(driver)\n",
    "    actions.send_keys(Keys.RETURN)\n",
    "    actions.perform()\n",
    "\n",
    "    time.sleep(10)\n",
    "\n",
    "    div_elements = driver.find_elements(By.CSS_SELECTOR, '.kCsInf')\n",
    "\n",
    "    for div in div_elements:\n",
    "        \n",
    "        hotel_name.append(get_hotel_name(div))\n",
    "        hotel_rating.append(get_hotel_rating(div))\n",
    "        hotel_city.append(city)\n",
    "        hotel_price.append(get_hotel_price(div))\n",
    "\n",
    "        features = get_hotel_features(div)\n",
    "\n",
    "        feature_1.append(features[0])\n",
    "        feature_2.append(features[1])\n",
    "        feature_3.append(features[2])\n",
    "        feature_4.append(features[3])\n",
    "        feature_5.append(features[4])\n",
    "        feature_6.append(features[5])\n",
    "        feature_7.append(features[6])\n",
    "        feature_8.append(features[7])\n",
    "        feature_9.append(features[8])"
   ]
  },
  {
   "cell_type": "code",
   "execution_count": 48,
   "metadata": {},
   "outputs": [],
   "source": [
    "google_hotel_df['Hotel_Name'] = hotel_name\n",
    "google_hotel_df['Hotel_Rating'] = hotel_rating\n",
    "google_hotel_df['City'] = hotel_city\n",
    "google_hotel_df['Feature_1'] = feature_1\n",
    "google_hotel_df['Feature_2'] = feature_2\n",
    "google_hotel_df['Feature_3'] = feature_3\n",
    "google_hotel_df['Feature_4'] = feature_4\n",
    "google_hotel_df['Feature_5'] = feature_5\n",
    "google_hotel_df['Feature_6'] = feature_6\n",
    "google_hotel_df['Feature_7'] = feature_7\n",
    "google_hotel_df['Feature_8'] = feature_8\n",
    "google_hotel_df['Feature_9'] = feature_9\n",
    "google_hotel_df['Hotel_Price'] = hotel_price"
   ]
  }
 ],
 "metadata": {
  "kernelspec": {
   "display_name": "Python 3",
   "language": "python",
   "name": "python3"
  },
  "language_info": {
   "codemirror_mode": {
    "name": "ipython",
    "version": 3
   },
   "file_extension": ".py",
   "mimetype": "text/x-python",
   "name": "python",
   "nbconvert_exporter": "python",
   "pygments_lexer": "ipython3",
   "version": "3.10.2"
  }
 },
 "nbformat": 4,
 "nbformat_minor": 2
}
